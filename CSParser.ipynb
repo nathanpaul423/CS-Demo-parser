{
 "cells": [
  {
   "cell_type": "code",
   "execution_count": null,
   "metadata": {},
   "outputs": [],
   "source": [
    "!pip install awpy\n",
    "!pip install openpyxl"
   ]
  },
  {
   "cell_type": "code",
   "execution_count": 21,
   "metadata": {},
   "outputs": [],
   "source": [
    "import os\n",
    "import pandas as pd\n",
    "from awpy import Demo\n",
    "import time"
   ]
  },
  {
   "cell_type": "code",
   "execution_count": 22,
   "metadata": {},
   "outputs": [],
   "source": [
    "def round_score_df(round):\n",
    "    df = round.pivot(index='round_num', columns='winner',values='winner').reset_index()\n",
    "    df['ct'] = df['ct'].notna().astype(int)\n",
    "    df['t'] = df['t'].notna().astype(int)\n",
    "    # Cumulative score\n",
    "    df['ct_score'] = df['ct'].cumsum()\n",
    "    df['t_score'] = df['t'].cumsum()\n",
    "\n",
    "    #current score\n",
    "    df['ct_current'] = df['ct_score'].shift(fill_value=0)\n",
    "    df['t_current'] = df['t_score'].shift(fill_value=0)\n",
    "\n",
    "    # Format as \"ct-t\"\n",
    "    df['score'] = df['ct_current'].astype(str) + \"-\" + df['t_current'].astype(str)\n",
    "    round_score = df\n",
    "    \n",
    "    return round_score"
   ]
  },
  {
   "cell_type": "code",
   "execution_count": 23,
   "metadata": {},
   "outputs": [],
   "source": [
    "def kills_df(kills):\n",
    "    kills_df = kills[['round_num','attacker_name','weapon']]\n",
    "    my_kills = kills_df[kills_df['attacker_name']==\"FX\"].groupby(['round_num']).count().reset_index()\n",
    "    my_kills = my_kills[['round_num','attacker_name']]\n",
    "    \n",
    "    return my_kills"
   ]
  },
  {
   "cell_type": "code",
   "execution_count": 24,
   "metadata": {},
   "outputs": [],
   "source": [
    "def my_highlights(rounds,kills):\n",
    "    my_highlights = pd.merge(kills,rounds,on='round_num',how='left')[['round_num','attacker_name','score']]\n",
    "    my_highlights.rename(columns={'attacker_name':'FX_kills'})\n",
    "\n",
    "    return my_highlights"
   ]
  },
  {
   "cell_type": "code",
   "execution_count": 44,
   "metadata": {},
   "outputs": [
    {
     "name": "stdout",
     "output_type": "stream",
     "text": [
      "Done Parsing....D:\\CS2 Demos\\003776257228009373930_0950681461.dem\n",
      "Done!\n"
     ]
    }
   ],
   "source": [
    "\n",
    "file_path = r'D:\\CS2 Demos'\n",
    "\n",
    "workbook_path = r'D:\\\\my_highlights.xlsx'\n",
    "\n",
    "if os.path.isfile(workbook_path):\n",
    "    my_highlights_df = pd.read_excel(workbook_path)\n",
    "    prsnt_dm_file = my_highlights_df['file_name'].unique().tolist()\n",
    "else:\n",
    "    my_highlights_df = pd.DataFrame(columns=['round_num','FX_kills','score','time','map','file_name'])\n",
    "\n",
    "list_dem = os.listdir(file_path)\n",
    "\n",
    "prsnt_dm_file = [os.path.join(file_path,s) for s in prsnt_dm_file]\n",
    "\n",
    "#removing the files that has .info at end\n",
    "demos = [s for s in list_dem if '.info' not in s]\n",
    "demos = [os.path.join(file_path,s) for s in demos if os.path.join(file_path,s) not in prsnt_dm_file]\n",
    "\n",
    "for demo in demos:\n",
    "\n",
    "    dem = Demo(file_path_demo)\n",
    "    dem.parse()\n",
    "\n",
    "    cs_map = dem.header['map_name']\n",
    "\n",
    "\n",
    "    rnds = dem.rounds.to_pandas()\n",
    "    klls = dem.kills.to_pandas()\n",
    "\n",
    "    rnds_df = round_score_df(rnds)\n",
    "    klls_df = kills_df(klls)\n",
    "\n",
    "    highlight = my_highlights(rnds_df,klls_df)\n",
    "\n",
    "    file_stats = os.stat(file_path_demo)\n",
    "\n",
    "    highlight['time'] = time.ctime(file_stats.st_ctime)\n",
    "    highlight['map'] = cs_map\n",
    "    highlight['file_name'] = file_path_demo\n",
    "\n",
    "    my_highlights_df = pd.concat([my_highlights_df,highlight])\n",
    "    print(f'Done Parsing....{file_path_demo}')\n",
    "\n",
    "my_highlights_df.to_excel(workbook_path, index=False)\n",
    "print('Done!')\n"
   ]
  }
 ],
 "metadata": {
  "kernelspec": {
   "display_name": "Python 3",
   "language": "python",
   "name": "python3"
  },
  "language_info": {
   "codemirror_mode": {
    "name": "ipython",
    "version": 3
   },
   "file_extension": ".py",
   "mimetype": "text/x-python",
   "name": "python",
   "nbconvert_exporter": "python",
   "pygments_lexer": "ipython3",
   "version": "3.12.3"
  }
 },
 "nbformat": 4,
 "nbformat_minor": 2
}
