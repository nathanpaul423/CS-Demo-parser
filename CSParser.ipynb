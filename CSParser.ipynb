{
 "cells": [
  {
   "cell_type": "code",
   "execution_count": null,
   "metadata": {},
   "outputs": [
    {
     "name": "stdout",
     "output_type": "stream",
     "text": [
      "Requirement already satisfied: awpy in c:\\users\\natha\\appdata\\local\\programs\\python\\python312\\lib\\site-packages (2.0.2)\n",
      "Requirement already satisfied: click>=8.1.8 in c:\\users\\natha\\appdata\\local\\programs\\python\\python312\\lib\\site-packages (from awpy) (8.2.1)\n",
      "Requirement already satisfied: demoparser2>=0.38.0 in c:\\users\\natha\\appdata\\local\\programs\\python\\python312\\lib\\site-packages (from awpy) (0.39.0)\n",
      "Requirement already satisfied: loguru>=0.7.3 in c:\\users\\natha\\appdata\\local\\programs\\python\\python312\\lib\\site-packages (from awpy) (0.7.3)\n",
      "Requirement already satisfied: matplotlib>=3.10.0 in c:\\users\\natha\\appdata\\local\\programs\\python\\python312\\lib\\site-packages (from awpy) (3.10.6)\n",
      "Requirement already satisfied: networkx>=3.4.2 in c:\\users\\natha\\appdata\\local\\programs\\python\\python312\\lib\\site-packages (from awpy) (3.5)\n",
      "Requirement already satisfied: numpy>=2.0.0 in c:\\users\\natha\\appdata\\local\\programs\\python\\python312\\lib\\site-packages (from awpy) (2.1.3)\n",
      "Requirement already satisfied: pillow>=11.1.0 in c:\\users\\natha\\appdata\\local\\programs\\python\\python312\\lib\\site-packages (from awpy) (11.3.0)\n",
      "Requirement already satisfied: polars>=1.22.0 in c:\\users\\natha\\appdata\\local\\programs\\python\\python312\\lib\\site-packages (from awpy) (1.33.1)\n",
      "Requirement already satisfied: requests>=2.32.3 in c:\\users\\natha\\appdata\\local\\programs\\python\\python312\\lib\\site-packages (from awpy) (2.32.5)\n",
      "Requirement already satisfied: scipy>=1.15.0 in c:\\users\\natha\\appdata\\local\\programs\\python\\python312\\lib\\site-packages (from awpy) (1.16.2)\n",
      "Requirement already satisfied: tqdm>=4.67.1 in c:\\users\\natha\\appdata\\local\\programs\\python\\python312\\lib\\site-packages (from awpy) (4.67.1)\n",
      "Requirement already satisfied: colorama in c:\\users\\natha\\appdata\\roaming\\python\\python312\\site-packages (from click>=8.1.8->awpy) (0.4.6)\n",
      "Requirement already satisfied: pandas>=1.5.0 in c:\\users\\natha\\appdata\\local\\programs\\python\\python312\\lib\\site-packages (from demoparser2>=0.38.0->awpy) (2.2.3)\n",
      "Requirement already satisfied: pyarrow in c:\\users\\natha\\appdata\\local\\programs\\python\\python312\\lib\\site-packages (from demoparser2>=0.38.0->awpy) (21.0.0)\n",
      "Requirement already satisfied: win32-setctime>=1.0.0 in c:\\users\\natha\\appdata\\local\\programs\\python\\python312\\lib\\site-packages (from loguru>=0.7.3->awpy) (1.2.0)\n",
      "Requirement already satisfied: contourpy>=1.0.1 in c:\\users\\natha\\appdata\\local\\programs\\python\\python312\\lib\\site-packages (from matplotlib>=3.10.0->awpy) (1.3.1)\n",
      "Requirement already satisfied: cycler>=0.10 in c:\\users\\natha\\appdata\\local\\programs\\python\\python312\\lib\\site-packages (from matplotlib>=3.10.0->awpy) (0.12.1)\n",
      "Requirement already satisfied: fonttools>=4.22.0 in c:\\users\\natha\\appdata\\local\\programs\\python\\python312\\lib\\site-packages (from matplotlib>=3.10.0->awpy) (4.55.1)\n",
      "Requirement already satisfied: kiwisolver>=1.3.1 in c:\\users\\natha\\appdata\\local\\programs\\python\\python312\\lib\\site-packages (from matplotlib>=3.10.0->awpy) (1.4.7)\n",
      "Requirement already satisfied: packaging>=20.0 in c:\\users\\natha\\appdata\\roaming\\python\\python312\\site-packages (from matplotlib>=3.10.0->awpy) (24.2)\n",
      "Requirement already satisfied: pyparsing>=2.3.1 in c:\\users\\natha\\appdata\\local\\programs\\python\\python312\\lib\\site-packages (from matplotlib>=3.10.0->awpy) (3.2.0)\n",
      "Requirement already satisfied: python-dateutil>=2.7 in c:\\users\\natha\\appdata\\roaming\\python\\python312\\site-packages (from matplotlib>=3.10.0->awpy) (2.9.0.post0)\n",
      "Requirement already satisfied: charset_normalizer<4,>=2 in c:\\users\\natha\\appdata\\local\\programs\\python\\python312\\lib\\site-packages (from requests>=2.32.3->awpy) (3.4.3)\n",
      "Requirement already satisfied: idna<4,>=2.5 in c:\\users\\natha\\appdata\\local\\programs\\python\\python312\\lib\\site-packages (from requests>=2.32.3->awpy) (3.10)\n",
      "Requirement already satisfied: urllib3<3,>=1.21.1 in c:\\users\\natha\\appdata\\local\\programs\\python\\python312\\lib\\site-packages (from requests>=2.32.3->awpy) (2.5.0)\n",
      "Requirement already satisfied: certifi>=2017.4.17 in c:\\users\\natha\\appdata\\local\\programs\\python\\python312\\lib\\site-packages (from requests>=2.32.3->awpy) (2025.8.3)\n",
      "Requirement already satisfied: pytz>=2020.1 in c:\\users\\natha\\appdata\\local\\programs\\python\\python312\\lib\\site-packages (from pandas>=1.5.0->demoparser2>=0.38.0->awpy) (2024.2)\n",
      "Requirement already satisfied: tzdata>=2022.7 in c:\\users\\natha\\appdata\\local\\programs\\python\\python312\\lib\\site-packages (from pandas>=1.5.0->demoparser2>=0.38.0->awpy) (2024.2)\n",
      "Requirement already satisfied: six>=1.5 in c:\\users\\natha\\appdata\\roaming\\python\\python312\\site-packages (from python-dateutil>=2.7->matplotlib>=3.10.0->awpy) (1.17.0)\n",
      "Note: you may need to restart the kernel to use updated packages.\n"
     ]
    },
    {
     "name": "stderr",
     "output_type": "stream",
     "text": [
      "\n",
      "[notice] A new release of pip is available: 24.3.1 -> 25.2\n",
      "[notice] To update, run: python.exe -m pip install --upgrade pip\n"
     ]
    }
   ],
   "source": [
    "pip install awpy\n",
    "pip install openpyxl"
   ]
  },
  {
   "cell_type": "code",
   "execution_count": 3,
   "metadata": {},
   "outputs": [],
   "source": [
    "import os\n",
    "import pandas as pd\n",
    "from awpy import Demo\n",
    "import time"
   ]
  },
  {
   "cell_type": "code",
   "execution_count": 4,
   "metadata": {},
   "outputs": [],
   "source": [
    "def round_score_df(round):\n",
    "    df = round.pivot(index='round_num', columns='winner',values='winner').reset_index()\n",
    "    df['ct'] = df['ct'].notna().astype(int)\n",
    "    df['t'] = df['t'].notna().astype(int)\n",
    "    # Cumulative score\n",
    "    df['ct_score'] = df['ct'].cumsum()\n",
    "    df['t_score'] = df['t'].cumsum()\n",
    "\n",
    "    #current score\n",
    "    df['ct_current'] = df['ct_score'].shift(fill_value=0)\n",
    "    df['t_current'] = df['t_score'].shift(fill_value=0)\n",
    "\n",
    "    # Format as \"ct-t\"\n",
    "    df['score'] = df['ct_current'].astype(str) + \"-\" + df['t_current'].astype(str)\n",
    "    round_score = df\n",
    "    \n",
    "    return round_score"
   ]
  },
  {
   "cell_type": "code",
   "execution_count": 5,
   "metadata": {},
   "outputs": [],
   "source": [
    "def kills_df(kills):\n",
    "    kills_df = kills[['round_num','attacker_name','weapon']]\n",
    "    my_kills = kills_df[kills_df['attacker_name']==\"FX\"].groupby(['round_num']).count().reset_index()\n",
    "    my_kills = my_kills[['round_num','attacker_name']]\n",
    "    \n",
    "    return my_kills"
   ]
  },
  {
   "cell_type": "code",
   "execution_count": 6,
   "metadata": {},
   "outputs": [],
   "source": [
    "def my_highlights(rounds,kills):\n",
    "    my_highlights = pd.merge(kills,rounds,on='round_num',how='left')[['round_num','attacker_name','score']]\n",
    "    my_highlights.rename(columns={'attacker_name':'FX_kills'})\n",
    "\n",
    "    return my_highlights"
   ]
  },
  {
   "cell_type": "code",
   "execution_count": null,
   "metadata": {},
   "outputs": [
    {
     "name": "stdout",
     "output_type": "stream",
     "text": [
      "Parsing....D:\\CS2 Demos\\003774033248846348588_1021889735.dem\n",
      "Parsing....D:\\CS2 Demos\\003775157909655126359_1386198079.dem\n",
      "Parsing....D:\\CS2 Demos\\match730_003774219150063305230_0999312015_141.dem\n",
      "Parsing....D:\\CS2 Demos\\match730_003774406715580088795_0868543628_403.dem\n",
      "Parsing....D:\\CS2 Demos\\match730_003774590297514705423_0798539187_142.dem\n",
      "Parsing....D:\\CS2 Demos\\match730_003774592679074070647_0017426932_141.dem\n",
      "Parsing....D:\\CS2 Demos\\match730_003774596845192347831_1302506794_403.dem\n",
      "Parsing....D:\\CS2 Demos\\match730_003775145621753692463_1893614199_142.dem\n",
      "Parsing....D:\\CS2 Demos\\match730_003775328999677362520_1319199445_141.dem\n",
      "Parsing....D:\\CS2 Demos\\match730_003775332884475281552_1747652881_142.dem\n",
      "Parsing....D:\\CS2 Demos\\match730_003775515620301341218_0508359405_154.dem\n",
      "Parsing....D:\\CS2 Demos\\match730_003775521055582453889_1985575054_154.dem\n"
     ]
    }
   ],
   "source": [
    "file_path = r'C:\\Program Files (x86)\\Steam\\steamapps\\common\\Counter-Strike Global Offensive\\game\\csgo\\replays'\n",
    "workbook_path = r'D:\\\\my_highlights.xlsx'\n",
    "\n",
    "if os.path.isfile(workbook_path):\n",
    "    my_highlights_df = pd.read_excel(workbook_path)\n",
    "else:\n",
    "    my_highlights_df = pd.DataFrame(columns=['round_num','FX_kills','score','time','map'])\n",
    "\n",
    "list_dem = os.listdir(file_path)\n",
    "\n",
    "#removing the files that has .info at end\n",
    "demos = [s for s in list_dem if '.info' not in s]\n",
    "\n",
    "\n",
    "\n",
    "for demo in demos:\n",
    "\n",
    "    file_path_demo = os.path.join(file_path,demo)\n",
    "    dem = Demo(file_path_demo)\n",
    "    dem.parse()\n",
    "\n",
    "    cs_map = dem.header['map_name']\n",
    "\n",
    "    rnds = dem.rounds.to_pandas()\n",
    "    klls = dem.kills.to_pandas()\n",
    "\n",
    "    rnds_df = round_score_df(rnds)\n",
    "    klls_df = kills_df(klls)\n",
    "\n",
    "    highlight = my_highlights(rnds_df,klls_df)\n",
    "\n",
    "    file_stats = os.stat(file_path_demo)\n",
    "\n",
    "    highlight['time'] = time.ctime(file_stats.st_ctime)\n",
    "    highlight['map'] = cs_map\n",
    "\n",
    "    my_highlights_df = pd.concat([my_highlights_df,highlight])\n",
    "    print(f'Done Parsing....{file_path_demo}')\n",
    "\n",
    "my_highlights_df.to_excel(workbook_path, index=False)\n"
   ]
  }
 ],
 "metadata": {
  "kernelspec": {
   "display_name": "Python 3",
   "language": "python",
   "name": "python3"
  },
  "language_info": {
   "codemirror_mode": {
    "name": "ipython",
    "version": 3
   },
   "file_extension": ".py",
   "mimetype": "text/x-python",
   "name": "python",
   "nbconvert_exporter": "python",
   "pygments_lexer": "ipython3",
   "version": "3.12.3"
  }
 },
 "nbformat": 4,
 "nbformat_minor": 2
}
